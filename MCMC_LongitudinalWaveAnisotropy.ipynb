{
 "cells": [
  {
   "cell_type": "markdown",
   "metadata": {},
   "source": [
    "### Probabilistic estimation of anisotropy of ultrasound quasi-longitudinal waves in trasversely isotropic tissue \n",
    "\n",
    "----------------------------------\n",
    "\n",
    "#### (1) We assume elliptical anisotropy, which has experimentally been observed in muscle tissue.\n",
    "\n",
    "#### (2) We consider a setup with a flat reflector located in front of the ultrasound probe, with tissue in between.\n",
    "\n",
    "#### (3) We apply Bayesian inference and calculate the posterior distribution of anisotropy parameters. This is useful for uncertainty quantification.\n",
    "\n",
    "\n",
    "--------------------------------------------------\n",
    "\n",
    "\n",
    "If you find this work useful for your research, please cite:\n",
    "\n",
    "Korta Martiartu et al, \"Ultrasound longitudinal-wave anisotropy estimation in muscle tissue\", TechRxiv, 2021. https://www.techrxiv.org/articles/preprint/Ultrasound_longitudinal-wave_anisotropy_estimation_in_muscle_tissue/15104529\n"
   ]
  },
  {
   "cell_type": "markdown",
   "metadata": {},
   "source": [
    "### Define forward problem"
   ]
  },
  {
   "cell_type": "code",
   "execution_count": 2,
   "metadata": {},
   "outputs": [],
   "source": [
    "@jit(nopython=True)\n",
    "\n",
    "# Define the forward problem (Equation (12) from Korta Martiartu et al. 2021)\n",
    "\n",
    "def Forward(D,rx,sx,m,alpha):\n",
    "    \n",
    "    '''\n",
    "    D: probe-reflector distance (scalar)\n",
    "    rx: receiver locations (np.array, size: number of receivers)\n",
    "    sx: source locations (np.array, size: number of sources)\n",
    "    m: model parameters describing anisotropic tissue (np.array, size: 5 [2 velocities, anisotropy anlge, \n",
    "    and 2 reflector inclination angles])\n",
    "    alpha: reflector inclination angle (scalar)\n",
    "    '''\n",
    "    \n",
    "    RX = np.reshape(np.repeat(rx,len(sx)),(nr,len(sx))).T\n",
    "\n",
    "    SX = np.reshape(np.repeat(sx,nr),(len(sx),nr))\n",
    "    \n",
    "    d = RX - SX\n",
    "    \n",
    "    D = D * cos(alpha) + (SX-rx[0])*sin(alpha)\n",
    "    \n",
    "    ttt = np.sqrt(d*d*(m[0]*m[0]*sin(m[2])**2 + m[1]*m[1]*cos(m[2])**2)/(m[0]*m[0]*m[1]*m[1]) + \n",
    "                   (4*D*D + 4*D*d*sin(alpha))/(m[0]*m[0]*sin(m[2] + alpha)**2 + m[1]*m[1]*cos(m[2] + alpha)**2))\n",
    "    \n",
    "    return ttt.flatten()\n"
   ]
  },
  {
   "cell_type": "markdown",
   "metadata": {},
   "source": [
    "### Define Prior"
   ]
  },
  {
   "cell_type": "code",
   "execution_count": 3,
   "metadata": {},
   "outputs": [],
   "source": [
    "# Define prior pobability density function\n",
    "\n",
    "def Prior(m):\n",
    "    \n",
    "    '''\n",
    "    m: model parameters describing anisotropic tissue (np.array, size: 5 [2 velocities, anisotropy anlge, \n",
    "    and 2 reflector inclination angles])\n",
    "    \n",
    "    '''\n",
    "    \n",
    "    v_max = 1800   #uniform prior velocities\n",
    "    v_min = 1300\n",
    "\n",
    "    phi_max = 45*pi/180   #uniform prior anisotropy angle\n",
    "    phi_min = -45*pi/180\n",
    "    \n",
    "    alpha1_mean = 5 *pi/180   # gaussian prior reflector inclination angle\n",
    "    alpha2_mean = 10 *pi/180\n",
    "    alpha_std2 = 3*3*pi*pi/180/180\n",
    "    \n",
    "    # Define probabilities\n",
    "    \n",
    "    if ((sum(m[0:2] > v_max) >= 1) | (sum(m[0:2] < v_min) >= 1) | (m[2] >= phi_max) | (m[2] < phi_min)):\n",
    "        \n",
    "        prob = 0\n",
    "        \n",
    "    else:\n",
    "        \n",
    "        prob = ((1 / (v_max - v_min))*(1 / (v_max - v_min)) *(1 / (phi_max - phi_min)) *\n",
    "               exp(-0.5*((m[3] - alpha1_mean)**2)/alpha_std2) * \n",
    "                exp(-0.5*((m[4] - alpha2_mean)**2)/alpha_std2))\n",
    "    \n",
    "    return prob"
   ]
  },
  {
   "cell_type": "markdown",
   "metadata": {},
   "source": [
    "### Define Likelihood"
   ]
  },
  {
   "cell_type": "code",
   "execution_count": 4,
   "metadata": {},
   "outputs": [],
   "source": [
    "# We assume Gaussian noise with standard deviation of 1e-3 of the maximum traveltimes in each dataset\n",
    "\n",
    "def Likelihood(ttt_obs,ttt,ns):\n",
    "    \n",
    "    '''\n",
    "    ttt_obs: observed traveltimes (np.array, size: 2*ns x nr, nr: number of receivers)\n",
    "    ttt: predicted traveltimes (np.array, size: 2*ns x nr, nr: number of receivers)\n",
    "    ns: number of sources (scalar)\n",
    "    '''\n",
    "\n",
    "    nr = int(len(ttt_obs)/2/ns) ## number of receivers (note we use 2 inclination angles)\n",
    "    \n",
    "    # Define standard deviation of the measurements noise\n",
    "    \n",
    "    sigma = np.ones_like(ttt_obs)\n",
    "    \n",
    "    for i in range(ns):\n",
    "        sigma[i*nr:(i+1)*nr] = 1e-3 * max(ttt_obs[i*nr:(i+1)*nr])\n",
    "        sigma[(ns+i)*nr:(ns + i+1)*nr] = 1e-3 * max(ttt_obs[i*nr:(i+1)*nr])\n",
    "  \n",
    "       \n",
    "    exponent = -0.5*(np.linalg.norm((ttt_obs-ttt)/sigma)**2) # Exponent of the likelihood\n",
    "       \n",
    "    return exponent"
   ]
  },
  {
   "cell_type": "markdown",
   "metadata": {},
   "source": [
    "### Modify current model"
   ]
  },
  {
   "cell_type": "code",
   "execution_count": 5,
   "metadata": {},
   "outputs": [],
   "source": [
    "## Define function to suggest new samples. \n",
    "## These are created randomly from a normal distribution around previously accepted model.\n",
    "\n",
    "def Modify_model(m):\n",
    "    \n",
    "    '''\n",
    "    m: model parameters describing anisotropic tissue (np.array, size: 5 [2 velocities, anisotropy anlge, \n",
    "    and 2 reflector inclination angles])    \n",
    "    '''\n",
    "    \n",
    "    m_new = m + randn(len(m))*np.array([0.1, 0.05, 0.05*pi/180, 0.01*pi/180, 0.01*pi/180])   \n",
    "    \n",
    "    return m_new"
   ]
  },
  {
   "cell_type": "markdown",
   "metadata": {},
   "source": [
    "### Define Acceptance Rule"
   ]
  },
  {
   "cell_type": "code",
   "execution_count": 6,
   "metadata": {},
   "outputs": [],
   "source": [
    "def Acceptance_rule(prior,prior_new,L,L_new):\n",
    "    \n",
    "    '''\n",
    "    prior: prior previously accepted model\n",
    "    prior_new: prior proposed model\n",
    "    L: Likelihood previously accepted model\n",
    "    L_new: Likelihood proposed model\n",
    "    '''\n",
    "    \n",
    "    if (L_new + np.log(prior_new) > L + np.log(prior)):\n",
    "        \n",
    "        return True\n",
    "    \n",
    "    else:\n",
    "        \n",
    "        accept = uniform()      \n",
    "\n",
    "        return accept < (prior_new/prior)*np.exp(L_new-L)\n",
    "    "
   ]
  },
  {
   "cell_type": "markdown",
   "metadata": {},
   "source": [
    "### Inputs for forward problem\n"
   ]
  },
  {
   "cell_type": "code",
   "execution_count": 7,
   "metadata": {},
   "outputs": [],
   "source": [
    "D = 0.1 #probe-reflector distance [cm]. In muscle: [0.10,0.05]\n",
    "\n",
    "sx = 0.02   # position source\n",
    "nr = 128    # Number of receivers.\n",
    "rx0 = 0.02   # x-value of first receiver.\n",
    "rx1 = 0.06  # x-value of last receiver.\n",
    "\n",
    "rx = np.linspace(rx0, rx1, nr)  # receiver positions"
   ]
  },
  {
   "cell_type": "markdown",
   "metadata": {},
   "source": [
    "### Inputs for MCMC"
   ]
  },
  {
   "cell_type": "code",
   "execution_count": 8,
   "metadata": {},
   "outputs": [],
   "source": [
    "n_samples = 100000 # Total number of samples while sampling the posterior\n",
    "\n",
    "burn_in = 10000 # Length of the burn-in period"
   ]
  },
  {
   "cell_type": "markdown",
   "metadata": {},
   "source": [
    "#### Generate/load observed data"
   ]
  },
  {
   "cell_type": "code",
   "execution_count": 9,
   "metadata": {},
   "outputs": [],
   "source": [
    "m_true = np.array([1560, 1540, 5*pi/180, 0*pi/180, 5*pi/180]) # Define true model\n",
    "\n",
    "\n",
    "ttt_obs = np.hstack((Forward(D,rx,rx[::4],m_true[0:3], m_true[3]), \n",
    "                     Forward(D,rx,rx[::4],m_true[0:3], m_true[4]))) # Compute observed traveltimes\n"
   ]
  },
  {
   "cell_type": "markdown",
   "metadata": {},
   "source": [
    "#### Generate initial model, prior and likelihood"
   ]
  },
  {
   "cell_type": "code",
   "execution_count": 10,
   "metadata": {},
   "outputs": [
    {
     "name": "stdout",
     "output_type": "stream",
     "text": [
      "[1.54000000e+03 1.54000000e+03 8.72664626e-02 0.00000000e+00\n",
      " 8.72664626e-02] 1.583312182782686e-07 -570.40122753304\n"
     ]
    }
   ],
   "source": [
    "m = np.array([1540, 1540, 5*pi/180, 0*pi/180, 5*pi/180]) # initial model\n",
    "\n",
    "prior = Prior(m) # prior initial model\n",
    "\n",
    "L = Likelihood(ttt_obs,np.hstack((Forward(D,rx,rx[::4],m[:3], m[3])\n",
    "                                  ,Forward(D,rx,rx[::4],m[:3], m[4]))), len(rx[::4])) # Likelihood initial model\n",
    "\n",
    "print(m, prior, L)"
   ]
  },
  {
   "cell_type": "markdown",
   "metadata": {},
   "source": [
    "### MCMC algorithm"
   ]
  },
  {
   "cell_type": "code",
   "execution_count": 11,
   "metadata": {},
   "outputs": [
    {
     "name": "stdout",
     "output_type": "stream",
     "text": [
      "CPU times: user 17min 27s, sys: 17.6 s, total: 17min 44s\n",
      "Wall time: 5min 16s\n"
     ]
    }
   ],
   "source": [
    "%%time\n",
    "\n",
    "n = 0\n",
    "k_accepted = 1\n",
    "\n",
    "m_array = np.zeros((n_samples - burn_in, len(m) + 2)) # initialize arrays where the samples are stored\n",
    "m_array2 = np.zeros((n_samples, len(m) + 2))\n",
    "\n",
    "\n",
    "for i_sample in range(n_samples):\n",
    "    \n",
    "    m_new = Modify_model(m) # propose a new model\n",
    "    \n",
    "    prior_new = Prior(m_new) # prior new model\n",
    "    \n",
    "    L_new = Likelihood(ttt_obs,np.hstack((Forward(D,rx,rx[::4],m_new[:3], m_new[3]),\n",
    "                                          Forward(D,rx,rx[::4],m_new[:3], m_new[4]))), len(rx[::4])) # likelihood new model\n",
    "\n",
    "    \n",
    "    if Acceptance_rule(prior,prior_new,L,L_new): # is it accepted?\n",
    "   \n",
    "        m = m_new\n",
    "        L = L_new\n",
    "        prior = prior_new\n",
    "        k_accepted += 1\n",
    "       \n",
    "        \n",
    "    \n",
    "    if (burn_in <= i_sample): # store the models after burn-in period\n",
    "        \n",
    "            m_array[n,:]=[m[0], m[1], m[2], m[3], m[4], L, prior]\n",
    "            n += 1\n",
    "\n",
    "    m_array2[i_sample,:]=[m_new[0], m_new[1], m_new[2], m_new[3], m_new[4], L_new, prior_new] #store all models\n",
    "    \n",
    "\n",
    "    \n",
    "m_array[:,2:5] = m_array[:,2:5]*180/pi # change angles to degrees\n",
    "m_array2[:,2:5] = m_array2[:,2:5]*180/pi "
   ]
  },
  {
   "cell_type": "markdown",
   "metadata": {},
   "source": [
    "#### Save results"
   ]
  },
  {
   "cell_type": "code",
   "execution_count": 12,
   "metadata": {},
   "outputs": [],
   "source": [
    "filename = f'./Posterior_{n_samples}samples_{burn_in}burnin'\n",
    "\n",
    "with open(filename, 'wb') as f:\n",
    "    np.savez(f, m_array = m_array, m_true = m_true, D = D, \n",
    "             rx0 = rx0, rx1 = rx1, nr = nr, sx = sx)\n",
    "   "
   ]
  },
  {
   "cell_type": "markdown",
   "metadata": {},
   "source": [
    "#### Acceptance rate:"
   ]
  },
  {
   "cell_type": "code",
   "execution_count": 13,
   "metadata": {},
   "outputs": [
    {
     "data": {
      "text/plain": [
       "18.878"
      ]
     },
     "execution_count": 13,
     "metadata": {},
     "output_type": "execute_result"
    }
   ],
   "source": [
    "k_accepted/n_samples*100"
   ]
  },
  {
   "cell_type": "code",
   "execution_count": 14,
   "metadata": {},
   "outputs": [
    {
     "data": {
      "text/plain": [
       "[<matplotlib.lines.Line2D at 0x7fd0552313d0>]"
      ]
     },
     "execution_count": 14,
     "metadata": {},
     "output_type": "execute_result"
    },
    {
     "data": {
      "image/png": "[encoded data removed]",
      "text/plain": [
       "<Figure size 432x288 with 1 Axes>"
      ]
     },
     "metadata": {
      "needs_background": "light"
     },
     "output_type": "display_data"
    }
   ],
   "source": [
    "plt.plot((m_array[:,5])) # plot likelihood"
   ]
  },
  {
   "cell_type": "markdown",
   "metadata": {},
   "source": [
    "#### Example marginal posterior probability density function"
   ]
  },
  {
   "cell_type": "code",
   "execution_count": 16,
   "metadata": {},
   "outputs": [
    {
     "data": {
      "text/plain": [
       "[<matplotlib.lines.Line2D at 0x7fd0580540d0>]"
      ]
     },
     "execution_count": 16,
     "metadata": {},
     "output_type": "execute_result"
    },
    {
     "data": {
      "image/png": "[encoded data removed]",
      "text/plain": [
       "<Figure size 432x288 with 1 Axes>"
      ]
     },
     "metadata": {
      "needs_background": "light"
     },
     "output_type": "display_data"
    }
   ],
   "source": [
    "# Histogram\n",
    "\n",
    "n, bins, patches = plt.hist(m_array[::100,0], 20, facecolor='black', density=True, stacked = True, alpha=0.5)\n",
    "\n",
    "# Compute Gaussian approximation\n",
    "\n",
    "m0 = np.mean(m_array[::100,0])\n",
    "mu = np.var(m_array[::100,0])\n",
    "\n",
    "x = np.linspace(np.min(m_array[:,0]),np.max(m_array[:,0]), 1000)\n",
    "pdf = 1.0/np.sqrt(2*np.pi*mu)*np.exp(-0.5*(x-m0)**2/mu)\n",
    "\n",
    "# Plot \n",
    "\n",
    "plt.plot(x,pdf,'--',linewidth = 4)\n",
    "\n",
    "plt.plot(m_true[0]*np.ones(100),np.linspace(min(pdf),max(pdf),100),':k', linewidth = 3)\n",
    "\n",
    "plt.plot(m0*np.ones(100),np.linspace(min(pdf),max(pdf),100),':', color='tab:orange', linewidth = 3)"
   ]
  },
  {
   "cell_type": "code",
   "execution_count": null,
   "metadata": {},
   "outputs": [],
   "source": []
  }
 ],
 "metadata": {
  "kernelspec": {
   "display_name": "Python 3 (ipykernel)",
   "language": "python",
   "name": "python3"
  },
  "language_info": {
   "codemirror_mode": {
    "name": "ipython",
    "version": 3
   },
   "file_extension": ".py",
   "mimetype": "text/x-python",
   "name": "python",
   "nbconvert_exporter": "python",
   "pygments_lexer": "ipython3",
   "version": "3.7.11"
  }
 },
 "nbformat": 4,
 "nbformat_minor": 4
}
