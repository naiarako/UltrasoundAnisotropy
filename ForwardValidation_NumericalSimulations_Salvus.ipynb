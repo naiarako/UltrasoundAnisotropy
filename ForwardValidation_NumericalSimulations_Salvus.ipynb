{
 "cells": [
  {
   "cell_type": "markdown",
   "metadata": {},
   "source": [
    "# Simulation of ultrasound wave propagation in anisotropic media\n",
    "\n",
    "This notebook performs an ultrasound simulations in a 2D anisotropic medium with a strong reflector using the spectral-element solver Salvus (https://mondaic.com/). The notebook reproduces the results in Fig. 5 of the reference manuscript:\n",
    "\n",
    "Korta Martiartu et al, \"Toward speed-of-sound anisotropy quantification in muscle with pulse-echo ultrasound\", IEEE-TUFFC, 2022. DOI tba\n",
    "\n",
    "Note: Check https://mondaic.com/docs/0.12.2/installation for installation of required packages\n",
    "\n",
    "Salvus version: 0.11.37-6-gb6ac8fde"
   ]
  },
  {
   "cell_type": "code",
   "execution_count": 1,
   "metadata": {},
   "outputs": [],
   "source": [
    "# Define max frequency of simulations\n",
    "\n",
    "MAX_FREQUENCY_IN_MHz = 1.0"
   ]
  },
  {
   "cell_type": "markdown",
   "metadata": {},
   "source": [
    "#### python environment"
   ]
  },
  {
   "cell_type": "code",
   "execution_count": 2,
   "metadata": {},
   "outputs": [],
   "source": [
    "%matplotlib inline\n",
    "\n",
    "# This line helps with tab-completion of the simple_config objects.\n",
    "%config Completer.use_jedi = False"
   ]
  },
  {
   "cell_type": "code",
   "execution_count": 3,
   "metadata": {},
   "outputs": [],
   "source": [
    "# Standard Python packages\n",
    "import numpy as np\n",
    "import matplotlib.pyplot as plt\n",
    "from pyasdf import ASDFDataSet\n",
    "import h5py\n",
    "from scipy import interpolate\n",
    "from math import cos, sin, pi\n",
    "\n",
    "# Workflow management.\n",
    "import salvus.flow.api\n",
    "\n",
    "# Specific objects to aid in setting up simulations.\n",
    "from salvus.mesh.simple_mesh import basic_mesh\n",
    "import salvus.flow.simple_config as sc\n",
    "from salvus.toolbox import toolbox"
   ]
  },
  {
   "cell_type": "markdown",
   "metadata": {},
   "source": [
    "#### Generate a mesh"
   ]
  },
  {
   "cell_type": "code",
   "execution_count": 4,
   "metadata": {},
   "outputs": [
    {
     "name": "stdout",
     "output_type": "stream",
     "text": [
      "Overwriting layered_model_acousanisotropic.bm\n"
     ]
    }
   ],
   "source": [
    "%%writefile layered_model_acousanisotropic.bm\n",
    "NAME         acou_anisot\n",
    "UNITS        m\n",
    "ACOUSTIC     TRUE\n",
    "COLUMNS      depth rho vp\n",
    " 0.0     1.0e3     1.515e3\n",
    " 0.095    1.0e3     1.515e3 \n",
    " 0.095    1.18e3     2.67e3 \n",
    " 0.100   1.18e3    2.67e3\n"
   ]
  },
  {
   "cell_type": "code",
   "execution_count": 5,
   "metadata": {},
   "outputs": [],
   "source": [
    "# Generate a mesh using the \"simplified\" meshing interface.\n",
    "mesh_config = basic_mesh.CartesianFromBm2D(bm_file='layered_model_acousanisotropic.bm', \n",
    "                                           x_max=0.12,\n",
    "                                           y_max=0.10,\n",
    "                                           max_frequency=MAX_FREQUENCY_IN_MHz*1e6,\n",
    "                                           tensor_order=4)\n",
    "mesh_config.refinement.refinement_bottom_up = True\n",
    "mesh_config.refinement.refinement_style = 'tripling'\n",
    "mesh = mesh_config.create_mesh()"
   ]
  },
  {
   "cell_type": "markdown",
   "metadata": {},
   "source": [
    "## Simulation for isotropic medium"
   ]
  },
  {
   "cell_type": "markdown",
   "metadata": {
    "scrolled": false
   },
   "source": [
    "#### Define the medium and attach to the mesh"
   ]
  },
  {
   "cell_type": "code",
   "execution_count": 6,
   "metadata": {},
   "outputs": [],
   "source": [
    "mesh2 = mesh.copy()\n",
    "\n",
    "\n",
    "D11_old = mesh2.elemental_fields[\"RHO\"]*(mesh2.elemental_fields[\"VP\"]**2)\n",
    "D22_old = mesh2.elemental_fields[\"RHO\"]*(mesh2.elemental_fields[\"VP\"]**2)\n",
    "D12_old = np.zeros_like(mesh2.elemental_fields[\"RHO\"])\n",
    "\n",
    "mesh2.attach_field(\"M0\", mesh2.elemental_fields[\"RHO\"])\n",
    "mesh2.attach_field(\"D11\", D11_old)\n",
    "mesh2.attach_field(\"D22\", D22_old)\n",
    "mesh2.attach_field(\"D12\", D12_old)\n",
    "\n",
    "\n",
    "del(mesh2.elemental_fields[\"VP\"])\n",
    "del(mesh2.elemental_fields[\"RHO\"])"
   ]
  },
  {
   "cell_type": "markdown",
   "metadata": {},
   "source": [
    "#### Define sources and receivers"
   ]
  },
  {
   "cell_type": "code",
   "execution_count": 7,
   "metadata": {
    "scrolled": true
   },
   "outputs": [],
   "source": [
    "# probe inclination angle\n",
    "alpha = 5*pi/180\n",
    "\n",
    "# source location\n",
    "sx, sy = 0.05, 0.08 + 0.005 # [m]\n",
    "\n",
    "# receiver locations\n",
    "nr = 128                 # Number of receivers\n",
    "rx0 = 0.05               # x-value of first receiver\n",
    "rx1 = 0.05 + 127*0.3e-3  # x-value of last receiver\n",
    "ry0 = 0.08 + 0.005       # y-value of first receiver\n",
    "\n",
    "rx = np.linspace(rx0, rx1, nr)\n",
    "\n",
    "# rotate receiver locations:\n",
    "rx_ref = rx - sx\n",
    "ry_ref = ry0 - 0.005\n",
    "\n",
    "rx_new = (rx_ref*cos(alpha) - ry_ref*sin(alpha)) + sx\n",
    "ry_new = (rx_ref*sin(alpha) + ry_ref*cos(alpha)) + 0.005\n",
    "\n",
    "# new source location is first element\n",
    "sx_new = rx_new[0]\n",
    "sy_new = ry_new[0]\n",
    "\n",
    "# source time function\n",
    "stf = sc.source.stf.Ricker(center_frequency=0.5 * MAX_FREQUENCY_IN_MHz * 1e6) # Center frequency in Hz.\n",
    "\n",
    "# create sources and receivers\n",
    "source = sc.source.cartesian.ScalarPoint2D(\n",
    "    x=sx_new, y=sy_new, f=1.0,\n",
    "    source_time_function=stf)\n",
    "\n",
    "receivers = [\n",
    "    sc.receiver.cartesian.Point2D(\n",
    "        x=rx_new[_i], y=ry_new[_i], station_code=f\"{_i:03d}\", fields=[\"phi\"])\n",
    "        for _i in range(nr)]\n",
    "\n",
    "# display(source)\n",
    "# display(receivers)"
   ]
  },
  {
   "cell_type": "markdown",
   "metadata": {},
   "source": [
    "#### Define simulation parameters"
   ]
  },
  {
   "cell_type": "code",
   "execution_count": 8,
   "metadata": {},
   "outputs": [],
   "source": [
    "# Set up a waveform simulation object.\n",
    "sim = sc.simulation.Waveform(\n",
    "    mesh=mesh2, sources=source, receivers=receivers)\n",
    "\n",
    "# End-time and data format\n",
    "sim.physics.wave_equation.end_time_in_seconds = 0.00015\n",
    "sim.output.point_data.format = \"hdf5\"\n",
    "\n",
    "# First-order absorbing boundary conditions\n",
    "boundaries = sc.boundary.Absorbing(\n",
    "    side_sets=[\"x0\", \"x1\",'y0','y1'], \n",
    "    taper_amplitude=(MAX_FREQUENCY_IN_MHz*1e6), \n",
    "    width_in_meters=5*1500 / (MAX_FREQUENCY_IN_MHz*1e6)\n",
    ")\n",
    "\n",
    "sim.add_boundary_conditions(boundaries)\n",
    "\n",
    "# Make sure that everything is ok\n",
    "sim.validate()\n",
    "#sim"
   ]
  },
  {
   "cell_type": "markdown",
   "metadata": {},
   "source": [
    "#### Run Salvus"
   ]
  },
  {
   "cell_type": "code",
   "execution_count": null,
   "metadata": {
    "scrolled": true
   },
   "outputs": [],
   "source": [
    "salvus.flow.api.run(\n",
    "        site_name=\"naiara_pc\", input_file=sim, ranks=4,\n",
    "        output_folder=f\"./output_iso\", overwrite=True, get_all=True)"
   ]
  },
  {
   "cell_type": "markdown",
   "metadata": {},
   "source": [
    "## Simulation for anisotropic medium"
   ]
  },
  {
   "cell_type": "markdown",
   "metadata": {},
   "source": [
    "#### Define the medium and attach to the mesh"
   ]
  },
  {
   "cell_type": "code",
   "execution_count": 10,
   "metadata": {},
   "outputs": [],
   "source": [
    "mesh2 = mesh.copy()\n",
    "\n",
    "\n",
    "mask = mesh2.elemental_fields[\"VP\"] <= 1516  # to avoid modifying the reflector\n",
    "\n",
    "D11_old = mesh2.elemental_fields[\"RHO\"]*(mesh2.elemental_fields[\"VP\"]**2)\n",
    "D22_old = mesh2.elemental_fields[\"RHO\"]*(mesh2.elemental_fields[\"VP\"]**2)\n",
    "D11_old[mask] = 1000*1560*1560\n",
    "D22_old[mask] = 1000*1540*1540\n",
    "D12_old = np.zeros_like(mesh2.elemental_fields[\"RHO\"])\n",
    "\n",
    "angle = -10/180*pi  # fiber orientation + inclination reflector\n",
    "D11 = D11_old*cos(angle)**2 + D22_old*sin(angle)**2\n",
    "D22 = D11_old*sin(angle)**2 + D22_old*cos(angle)**2\n",
    "D12 = -D11_old*sin(angle)*cos(angle) + D22_old*sin(angle)*cos(angle)\n",
    "\n",
    "mesh2.attach_field(\"M0\", mesh2.elemental_fields[\"RHO\"])\n",
    "mesh2.attach_field(\"D11\", D11)\n",
    "mesh2.attach_field(\"D22\", D22)\n",
    "mesh2.attach_field(\"D12\", D12)\n",
    "\n",
    "\n",
    "del(mesh2.elemental_fields[\"VP\"])\n",
    "del(mesh2.elemental_fields[\"RHO\"])"
   ]
  },
  {
   "cell_type": "markdown",
   "metadata": {},
   "source": [
    "#### Define sources and receivers"
   ]
  },
  {
   "cell_type": "code",
   "execution_count": 11,
   "metadata": {},
   "outputs": [],
   "source": [
    "# probe inclination angle\n",
    "alpha = 5*pi/180\n",
    "\n",
    "# source location\n",
    "sx, sy = 0.05, 0.08 + 0.005 # [m]\n",
    "\n",
    "# receiver locations\n",
    "nr = 128                 # Number of receivers\n",
    "rx0 = 0.05               # x-value of first receiver\n",
    "rx1 = 0.05 + 127*0.3e-3  # x-value of last receiver\n",
    "ry0 = 0.08 + 0.005       # y-value of first receiver\n",
    "\n",
    "rx = np.linspace(rx0, rx1, nr)\n",
    "\n",
    "# rotate receiver locations:\n",
    "rx_ref = rx - sx\n",
    "ry_ref = ry0 - 0.005\n",
    "\n",
    "rx_new = (rx_ref*cos(alpha) - ry_ref*sin(alpha)) + sx\n",
    "ry_new = (rx_ref*sin(alpha) + ry_ref*cos(alpha)) + 0.005\n",
    "\n",
    "# new source location is first element\n",
    "sx_new = rx_new[0]\n",
    "sy_new = ry_new[0]\n",
    "\n",
    "# source time function\n",
    "stf = sc.source.stf.Ricker(center_frequency=0.5 * MAX_FREQUENCY_IN_MHz * 1e6) # Center frequency in Hz.\n",
    "\n",
    "# create sources and receivers\n",
    "source = sc.source.cartesian.ScalarPoint2D(\n",
    "    x=sx_new, y=sy_new, f=1.0,\n",
    "    source_time_function=stf)\n",
    "\n",
    "receivers = [\n",
    "    sc.receiver.cartesian.Point2D(\n",
    "        x=rx_new[_i], y=ry_new[_i], station_code=f\"{_i:03d}\", fields=[\"phi\"])\n",
    "        for _i in range(nr)]\n",
    "\n",
    "# display(source)\n",
    "# display(receivers)"
   ]
  },
  {
   "cell_type": "markdown",
   "metadata": {},
   "source": [
    "#### Define simulation parameters"
   ]
  },
  {
   "cell_type": "code",
   "execution_count": 12,
   "metadata": {},
   "outputs": [],
   "source": [
    "# Set up a waveform simulation object.\n",
    "sim = sc.simulation.Waveform(\n",
    "    mesh=mesh2, sources=source, receivers=receivers)\n",
    "\n",
    "# End-time and data format\n",
    "sim.physics.wave_equation.end_time_in_seconds = 0.00015\n",
    "sim.output.point_data.format = \"hdf5\"\n",
    "\n",
    "# First-order absorbing boundary conditions\n",
    "boundaries = sc.boundary.Absorbing(\n",
    "    side_sets=[\"x0\", \"x1\",'y0','y1'], \n",
    "    taper_amplitude=(MAX_FREQUENCY_IN_MHz*1e6), \n",
    "    width_in_meters=5*1500 / (MAX_FREQUENCY_IN_MHz*1e6)\n",
    ")\n",
    "\n",
    "sim.add_boundary_conditions(boundaries)\n",
    "\n",
    "# Make sure that everything is ok\n",
    "sim.validate()"
   ]
  },
  {
   "cell_type": "markdown",
   "metadata": {},
   "source": [
    "#### Run Salvus"
   ]
  },
  {
   "cell_type": "code",
   "execution_count": null,
   "metadata": {},
   "outputs": [],
   "source": [
    "salvus.flow.api.run(\n",
    "    site_name=\"naiara_pc\", input_file=sim, ranks=4,\n",
    "    output_folder=f\"./output_anis\", overwrite=True, get_all=True)"
   ]
  },
  {
   "cell_type": "markdown",
   "metadata": {},
   "source": [
    "#### Plot shot gathers"
   ]
  },
  {
   "cell_type": "code",
   "execution_count": null,
   "metadata": {},
   "outputs": [],
   "source": [
    "# load actual data and callibration data\n",
    "data, dt, extent = toolbox.get_shotgather(f\"./output_anis/receivers.h5\", field=\"phi\")\n",
    "\n",
    "data_iso, dt_iso, extent_iso = toolbox.get_shotgather(f\"./output_iso/receivers.h5\", field=\"phi\")\n",
    "\n",
    "# time vector\n",
    "time = np.arange(extent[3],extent[2]-dt/2,dt)\n",
    "time_iso = time\n",
    "\n",
    "clip_min = 0.01 * data.min()\n",
    "clip_max = 0.01 * data.max()\n",
    "\n",
    "fig,ax = plt.subplots()\n",
    "\n",
    "for i in range(data.shape[1]):\n",
    "    ax.plot(i*10*clip_max + data[:,i], time, 'k',linewidth=0.5)\n",
    "    ax.fill_betweenx(time,i*10*clip_max,i*10*clip_max + data[:,i],\n",
    "                     where=(i*10*clip_max + data[:,i]>i*10*clip_max+0.04*data[:,i].max()),color='k')\n",
    "\n",
    "\n",
    "for i in range(data.shape[1]):\n",
    "    ax.plot(i*10*clip_max + data_iso[:,i], time_iso, 'r',linewidth=0.5)\n",
    "    ax.fill_betweenx(time_iso,i*10*clip_max,i*10*clip_max + data_iso[:,i],\n",
    "                     where=(i*10*clip_max + data_iso[:,i]>i*10*clip_max+0.04*data_iso[:,i].max()),color='r')\n",
    "\n",
    "plt.gca().invert_yaxis()"
   ]
  },
  {
   "cell_type": "markdown",
   "metadata": {},
   "source": [
    "#### Compute measured traveltimes using cross-correlations with callibration measurements"
   ]
  },
  {
   "cell_type": "code",
   "execution_count": 19,
   "metadata": {},
   "outputs": [],
   "source": [
    "lags = np.arange(-data.shape[0] + 1, data.shape[0])\n",
    "\n",
    "\n",
    "delays = []\n",
    "first_arrival = []\n",
    "\n",
    "for i in range(data.shape[1]):\n",
    "    \n",
    "    # mask direct arrivals\n",
    "    mask = np.zeros_like(time)\n",
    "    mask[time>(rx[i]-sx)/1515+time[np.argmax(data[:,1])]+1e-5]=1\n",
    "    \n",
    "    # interpolate callibration signals to same time sampling as our data\n",
    "    f = interpolate.interp1d(time_iso, data_iso[:,i],fill_value=\"extrapolate\")  \n",
    "    \n",
    "    # cross-correlate masked datasets (with callibration)\n",
    "    cc = np.correlate(mask*data[:,i],mask*f(time),'full')\n",
    "    \n",
    "    # take maximum of cc-s to compute travetimes shifts \n",
    "    delays.append(lags[np.argmax(cc)]*dt)\n",
    "    \n",
    "# analytical callibration traveltimes\n",
    "\n",
    "L = sy_new - 0.005  #probe-reflector distance\n",
    "prop_dist = np.sqrt((rx_new-sx_new)**2 + (2*L+ry_new-sy_new)**2)\n",
    "ttt = prop_dist/1515 \n",
    "    \n",
    "\n",
    "# same array traveltimes with source-receiver offset\n",
    "\n",
    "obs = np.vstack([rx-sx,ttt+delays]).T  # add to traveltime delays the traveltimes for callibration"
   ]
  },
  {
   "cell_type": "markdown",
   "metadata": {},
   "source": [
    "#### Compute predicted traveltimes"
   ]
  },
  {
   "cell_type": "code",
   "execution_count": 21,
   "metadata": {},
   "outputs": [
    {
     "data": {
      "image/png": "[encoded data removed]",
      "text/plain": [
       "<Figure size 432x288 with 1 Axes>"
      ]
     },
     "metadata": {
      "needs_background": "light"
     },
     "output_type": "display_data"
    }
   ],
   "source": [
    "# Model parameters\n",
    "v_par = 1560\n",
    "v_perp = 1540\n",
    "phi = -angle\n",
    "m = np.array([v_par, v_perp, phi - alpha])\n",
    "\n",
    "\n",
    "L = sy - 0.005  # probe-reflector vertical distance\n",
    "d = rx - rx[0]  # source-receiver offset [the source is the first transducer element] \n",
    "\n",
    "L2 = L*cos(alpha) + (rx[0]-rx[0])*sin(alpha)  # eq. (11)\n",
    "\n",
    "\n",
    "# traveltimes [eq. (12)]\n",
    "ttt_anal = np.sqrt(d*d*(m[0]*m[0]*sin(m[2])**2 + m[1]*m[1]*cos(m[2])**2)/(m[0]*m[0]*m[1]*m[1]) + \n",
    "                   (4*L2*L2 + 4*L2*d*sin(alpha))/(m[0]*m[0]*sin(m[2] + alpha)**2 + m[1]*m[1]*cos(m[2] + alpha)**2))\n",
    "\n",
    "\n",
    "## Plot predicted versus modelled traveltimes\n",
    "\n",
    "ax = plt.subplot(111)  \n",
    "ax.spines[\"top\"].set_visible(False)  \n",
    "ax.spines[\"right\"].set_visible(False)\n",
    "\n",
    "plt.plot(obs[:,0]*100,ttt_anal, 'k',linewidth=5)\n",
    "plt.plot(obs[:,0]*100,obs[:,1],':', linewidth=5,c='tab:orange')\n",
    "\n",
    "plt.grid(color='gray', linestyle='-', linewidth=1, alpha=0.3)\n",
    "\n",
    "plt.xlabel('Source-receiver offset [cm]')\n",
    "plt.ylabel('Traveltime [s]')\n",
    "plt.legend([\"Modelled\",'Measured'], loc=4)    \n",
    "plt.rcParams.update({'font.size': 14})"
   ]
  },
  {
   "cell_type": "code",
   "execution_count": null,
   "metadata": {},
   "outputs": [],
   "source": []
  }
 ],
 "metadata": {
  "kernelspec": {
   "display_name": "Python 3",
   "language": "python",
   "name": "python3"
  },
  "language_info": {
   "codemirror_mode": {
    "name": "ipython",
    "version": 3
   },
   "file_extension": ".py",
   "mimetype": "text/x-python",
   "name": "python",
   "nbconvert_exporter": "python",
   "pygments_lexer": "ipython3",
   "version": "3.7.6"
  }
 },
 "nbformat": 4,
 "nbformat_minor": 2
}
